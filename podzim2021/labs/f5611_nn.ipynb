{
  "nbformat": 4,
  "nbformat_minor": 0,
  "metadata": {
    "colab": {
      "name": "f5611 nn.ipynb",
      "provenance": [],
      "collapsed_sections": []
    },
    "kernelspec": {
      "name": "python3",
      "display_name": "Python 3"
    },
    "language_info": {
      "name": "python"
    }
  },
  "cells": [
    {
      "cell_type": "code",
      "metadata": {
        "id": "2ASg_IpHxain"
      },
      "source": [
        "import matplotlib.pyplot as plt\n",
        "import numpy as np\n",
        "import pandas as pd"
      ],
      "execution_count": 1,
      "outputs": []
    },
    {
      "cell_type": "code",
      "metadata": {
        "colab": {
          "base_uri": "https://localhost:8080/",
          "height": 128
        },
        "id": "LWku9M4dya3b",
        "outputId": "f52b3f55-1bf7-4eef-df5a-ad9593241751"
      },
      "source": [
        "# load star/quasar dataset\n",
        "from pandas import read_csv\n",
        "url = \"https://raw.githubusercontent.com/toastmaker/ml4a/main/data/sdss_photo.csv\"\n",
        "# dataset = read_csv(\"sdss_photo.csv\", delimiter=\",\")\n",
        "dataset = read_csv(url, delimiter=\",\")\n",
        "print(len(dataset))\n",
        "dataset.head(2)"
      ],
      "execution_count": 2,
      "outputs": [
        {
          "output_type": "stream",
          "name": "stdout",
          "text": [
            "867\n"
          ]
        },
        {
          "output_type": "execute_result",
          "data": {
            "text/html": [
              "<div>\n",
              "<style scoped>\n",
              "    .dataframe tbody tr th:only-of-type {\n",
              "        vertical-align: middle;\n",
              "    }\n",
              "\n",
              "    .dataframe tbody tr th {\n",
              "        vertical-align: top;\n",
              "    }\n",
              "\n",
              "    .dataframe thead th {\n",
              "        text-align: right;\n",
              "    }\n",
              "</style>\n",
              "<table border=\"1\" class=\"dataframe\">\n",
              "  <thead>\n",
              "    <tr style=\"text-align: right;\">\n",
              "      <th></th>\n",
              "      <th>mag_u</th>\n",
              "      <th>mag_g</th>\n",
              "      <th>mag_r</th>\n",
              "      <th>mag_i</th>\n",
              "      <th>mag_z</th>\n",
              "      <th>target</th>\n",
              "      <th>u-g</th>\n",
              "      <th>g-r</th>\n",
              "      <th>r-i</th>\n",
              "      <th>i-z</th>\n",
              "    </tr>\n",
              "  </thead>\n",
              "  <tbody>\n",
              "    <tr>\n",
              "      <th>0</th>\n",
              "      <td>19.240999</td>\n",
              "      <td>17.525999</td>\n",
              "      <td>16.840</td>\n",
              "      <td>16.613001</td>\n",
              "      <td>16.492001</td>\n",
              "      <td>star</td>\n",
              "      <td>1.715</td>\n",
              "      <td>0.685999</td>\n",
              "      <td>0.226999</td>\n",
              "      <td>0.121000</td>\n",
              "    </tr>\n",
              "    <tr>\n",
              "      <th>1</th>\n",
              "      <td>19.732000</td>\n",
              "      <td>18.339001</td>\n",
              "      <td>17.767</td>\n",
              "      <td>17.580000</td>\n",
              "      <td>17.481001</td>\n",
              "      <td>star</td>\n",
              "      <td>1.393</td>\n",
              "      <td>0.572001</td>\n",
              "      <td>0.187000</td>\n",
              "      <td>0.098999</td>\n",
              "    </tr>\n",
              "  </tbody>\n",
              "</table>\n",
              "</div>"
            ],
            "text/plain": [
              "       mag_u      mag_g   mag_r      mag_i  ...    u-g       g-r       r-i       i-z\n",
              "0  19.240999  17.525999  16.840  16.613001  ...  1.715  0.685999  0.226999  0.121000\n",
              "1  19.732000  18.339001  17.767  17.580000  ...  1.393  0.572001  0.187000  0.098999\n",
              "\n",
              "[2 rows x 10 columns]"
            ]
          },
          "metadata": {},
          "execution_count": 2
        }
      ]
    },
    {
      "cell_type": "code",
      "metadata": {
        "colab": {
          "base_uri": "https://localhost:8080/"
        },
        "id": "qrFiqcW5DG0p",
        "outputId": "4ffbe91d-0df9-4888-e208-4a29334cd5d4"
      },
      "source": [
        "dataset.columns"
      ],
      "execution_count": 3,
      "outputs": [
        {
          "output_type": "execute_result",
          "data": {
            "text/plain": [
              "Index(['mag_u', 'mag_g', 'mag_r', 'mag_i', 'mag_z', 'target', 'u-g', 'g-r',\n",
              "       'r-i', 'i-z'],\n",
              "      dtype='object')"
            ]
          },
          "metadata": {},
          "execution_count": 3
        }
      ]
    },
    {
      "cell_type": "code",
      "metadata": {
        "id": "CGgi0Cz391i0"
      },
      "source": [
        "dataset.columns"
      ],
      "execution_count": null,
      "outputs": []
    },
    {
      "cell_type": "code",
      "metadata": {
        "colab": {
          "base_uri": "https://localhost:8080/"
        },
        "id": "f_02IFlOzU5D",
        "outputId": "03974982-41d5-4e8b-af3e-d25241760be3"
      },
      "source": [
        "# split into input (X) and output (Y) variables\n",
        "# X = dataset[['u-g','g-r','r-i','i-z']]\n",
        "X = dataset[['mag_u', 'mag_g', 'mag_r', 'mag_i', 'mag_z', 'u-g','g-r','r-i','i-z']]\n",
        "# X = dataset[['i-z']]\n",
        "y = dataset['target']\n",
        "print(X.shape)\n",
        "print(y.shape)"
      ],
      "execution_count": 20,
      "outputs": [
        {
          "output_type": "stream",
          "name": "stdout",
          "text": [
            "(867, 9)\n",
            "(867,)\n"
          ]
        }
      ]
    },
    {
      "cell_type": "code",
      "metadata": {
        "colab": {
          "base_uri": "https://localhost:8080/"
        },
        "id": "simFLFxkzTy7",
        "outputId": "242aa77a-ee59-4114-f880-1fdd449e0c88"
      },
      "source": [
        "# turn labels into ordinal numbers\n",
        "from sklearn.preprocessing import LabelEncoder\n",
        "le = LabelEncoder()\n",
        "y = le.fit_transform(y)\n",
        "print(np.unique(y))"
      ],
      "execution_count": 21,
      "outputs": [
        {
          "output_type": "stream",
          "name": "stdout",
          "text": [
            "[0 1]\n"
          ]
        }
      ]
    },
    {
      "cell_type": "code",
      "metadata": {
        "id": "z-O-28DFy2uK"
      },
      "source": [
        "from sklearn.preprocessing import StandardScaler\n",
        "sc = StandardScaler()\n",
        "X = sc.fit_transform(X)"
      ],
      "execution_count": 22,
      "outputs": []
    },
    {
      "cell_type": "code",
      "metadata": {
        "colab": {
          "base_uri": "https://localhost:8080/"
        },
        "id": "PxQXWJcl0KIq",
        "outputId": "7c4e4cd9-e85e-4913-8c8e-c0870ee382a2"
      },
      "source": [
        "from sklearn.model_selection import train_test_split\n",
        "X_train, X_test, y_train, y_test = train_test_split(X, y, test_size=0.3, shuffle=True)\n",
        "print(X_train.shape, X_test.shape)"
      ],
      "execution_count": 23,
      "outputs": [
        {
          "output_type": "stream",
          "name": "stdout",
          "text": [
            "(606, 9) (261, 9)\n"
          ]
        }
      ]
    },
    {
      "cell_type": "code",
      "metadata": {
        "id": "gZ8Onxka0OTB"
      },
      "source": [
        "input_dim = X_train.shape[1]"
      ],
      "execution_count": 24,
      "outputs": []
    },
    {
      "cell_type": "code",
      "metadata": {
        "id": "dTQ6w26a0UJA"
      },
      "source": [
        "# from keras.models import Sequential\n",
        "# from keras.layers import Dense, Dropout\n",
        "\n",
        "from tensorflow import keras\n",
        "\n",
        "\n",
        "def createModel(input_dim):\n",
        "    model = keras.models.Sequential()\n",
        "# kernel_initializer='uniform'\n",
        "# kernel_regularizer=regularizers.l1(0.01)\n",
        "# model.add(keras.layers.Dropout(0.5))\n",
        "    model.add(keras.layers.Dense(32, input_dim=input_dim, activation='relu')) #, kernel_regularizer=keras.regularizers.l1(0.01)))\n",
        "#    model.add(keras.layers.Dropout(0.5))\n",
        "    model.add(keras.layers.Dense(16, activation='relu')) # , kernel_regularizer=keras.regularizers.l1(0.01)))\n",
        "#    model.add(keras.layers.Dropout(0.5))\n",
        "#    model.add(keras.layers.Dense(4, activation='relu'))\n",
        "\n",
        "###    model.add(Dense(2, kernel_initializer='uniform', activation='softmax'))\n",
        "\n",
        "    model.add(keras.layers.Dense(1, activation='sigmoid'))\n",
        "    return model"
      ],
      "execution_count": 58,
      "outputs": []
    },
    {
      "cell_type": "code",
      "metadata": {
        "id": "pn55piqfyvbE"
      },
      "source": [
        "model = createModel(input_dim)\n",
        "#model.compile(loss='categorical_crossentropy', optimizer='adam', metrics=['accuracy'])\n",
        "#model.compile(loss='sparse_categorical_crossentropy', optimizer='adam', metrics=['accuracy'])\n",
        "model.compile(loss='binary_crossentropy', optimizer='adam', metrics=['accuracy'])"
      ],
      "execution_count": 59,
      "outputs": []
    },
    {
      "cell_type": "code",
      "metadata": {
        "colab": {
          "base_uri": "https://localhost:8080/"
        },
        "id": "wTZlmhnXz_vs",
        "outputId": "f05d1647-ea27-43f2-ae21-f33d9fcc263e"
      },
      "source": [
        "model.summary()"
      ],
      "execution_count": 60,
      "outputs": [
        {
          "output_type": "stream",
          "name": "stdout",
          "text": [
            "Model: \"sequential_8\"\n",
            "_________________________________________________________________\n",
            " Layer (type)                Output Shape              Param #   \n",
            "=================================================================\n",
            " dense_18 (Dense)            (None, 32)                320       \n",
            "                                                                 \n",
            " dense_19 (Dense)            (None, 16)                528       \n",
            "                                                                 \n",
            " dense_20 (Dense)            (None, 1)                 17        \n",
            "                                                                 \n",
            "=================================================================\n",
            "Total params: 865\n",
            "Trainable params: 865\n",
            "Non-trainable params: 0\n",
            "_________________________________________________________________\n"
          ]
        }
      ]
    },
    {
      "cell_type": "code",
      "metadata": {
        "colab": {
          "base_uri": "https://localhost:8080/",
          "height": 422
        },
        "id": "guP9fAitTCWa",
        "outputId": "44cd1829-6ce0-43e9-8256-da4c6d026c45"
      },
      "source": [
        "from keras.utils.vis_utils import plot_model\n",
        "plot_model(model, show_shapes=True, show_layer_names=False) #, show_layer_activations=True)"
      ],
      "execution_count": 61,
      "outputs": [
        {
          "output_type": "execute_result",
          "data": {
            "image/png": "[encoded data removed]",
            "text/plain": [
              "<IPython.core.display.Image object>"
            ]
          },
          "metadata": {},
          "execution_count": 61
        }
      ]
    },
    {
      "cell_type": "code",
      "metadata": {
        "id": "WP_o6Drp382J"
      },
      "source": [
        "from keras.callbacks import ModelCheckpoint, EarlyStopping\n",
        "\n",
        "fn_model=\"weights.best.hdf5\"\n",
        "checkpoint = ModelCheckpoint(filepath=fn_model, monitor='val_accuracy', save_best_only=True)\n",
        "# earlystop = EarlyStopping(monitor='loss', patience=3)\n",
        "# try verbose=1\n",
        "# callbacks_list = [checkpoint]"
      ],
      "execution_count": 63,
      "outputs": []
    },
    {
      "cell_type": "code",
      "metadata": {
        "id": "oyaQobED0Wj1"
      },
      "source": [
        "# Fit the model\n",
        "history = model.fit(X_train, y_train,validation_data=(X_test, y_test),\n",
        "          epochs=100, batch_size=20, verbose=0, callbacks=[checkpoint])"
      ],
      "execution_count": 64,
      "outputs": []
    },
    {
      "cell_type": "code",
      "metadata": {
        "colab": {
          "base_uri": "https://localhost:8080/"
        },
        "id": "Ufh3DgUX4UVr",
        "outputId": "217b13c4-ab92-49cc-d8b7-235877eb2931"
      },
      "source": [
        "! ls weights.best.hdf5\n",
        "model.load_weights(\"weights.best.hdf5\")\n"
      ],
      "execution_count": 65,
      "outputs": [
        {
          "output_type": "stream",
          "name": "stdout",
          "text": [
            "weights.best.hdf5\n"
          ]
        }
      ]
    },
    {
      "cell_type": "code",
      "metadata": {
        "colab": {
          "base_uri": "https://localhost:8080/",
          "height": 329
        },
        "id": "RYrCLQwR04e9",
        "outputId": "ef51978f-43a8-4285-de4b-573751c71bfb"
      },
      "source": [
        "history = model.history\n",
        "print(history.history.keys())\n",
        "\n",
        "plt.plot(history.history['loss'], label='train')\n",
        "plt.plot(history.history['val_loss'], label='test')\n",
        "plt.title('model loss')\n",
        "plt.ylabel('loss')\n",
        "plt.xlabel('epoch')\n",
        "plt.legend(loc='upper right')"
      ],
      "execution_count": 66,
      "outputs": [
        {
          "output_type": "stream",
          "name": "stdout",
          "text": [
            "dict_keys(['loss', 'accuracy', 'val_loss', 'val_accuracy'])\n"
          ]
        },
        {
          "output_type": "execute_result",
          "data": {
            "text/plain": [
              "<matplotlib.legend.Legend at 0x7f6e9474f0d0>"
            ]
          },
          "metadata": {},
          "execution_count": 66
        },
        {
          "output_type": "display_data",
          "data": {
            "image/png": "[encoded data removed]",
            "text/plain": [
              "<Figure size 432x288 with 1 Axes>"
            ]
          },
          "metadata": {
            "needs_background": "light"
          }
        }
      ]
    },
    {
      "cell_type": "code",
      "metadata": {
        "colab": {
          "base_uri": "https://localhost:8080/"
        },
        "id": "fot3EYiyyFxe",
        "outputId": "3313cc69-e5cd-45fb-b2b1-0aba49ac560f"
      },
      "source": [
        "score = model.evaluate(X_test, y_test)\n",
        "print(\"%s: %.2f%%\" % (model.metrics_names[1], score[1]*100))"
      ],
      "execution_count": 67,
      "outputs": [
        {
          "output_type": "stream",
          "name": "stdout",
          "text": [
            "9/9 [==============================] - 0s 2ms/step - loss: 0.0914 - accuracy: 0.9962\n",
            "accuracy: 99.62%\n"
          ]
        }
      ]
    },
    {
      "cell_type": "code",
      "metadata": {
        "id": "g9vy3SbO6CJv"
      },
      "source": [
        ""
      ],
      "execution_count": null,
      "outputs": []
    }
  ]
}