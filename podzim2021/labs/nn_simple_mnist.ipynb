{
  "nbformat": 4,
  "nbformat_minor": 0,
  "metadata": {
    "colab": {
      "name": "nn_simple mnist.ipynb",
      "provenance": [],
      "collapsed_sections": []
    },
    "kernelspec": {
      "name": "python3",
      "display_name": "Python 3"
    },
    "language_info": {
      "name": "python"
    },
    "accelerator": "GPU"
  },
  "cells": [
    {
      "cell_type": "code",
      "metadata": {
        "id": "3w9iWffd9pdU"
      },
      "source": [
        "from tensorflow import keras"
      ],
      "execution_count": 1,
      "outputs": []
    },
    {
      "cell_type": "code",
      "metadata": {
        "colab": {
          "base_uri": "https://localhost:8080/"
        },
        "id": "RyDOiPoD1nPR",
        "outputId": "70f29650-0041-49b5-97c9-ef78ab7e50b0"
      },
      "source": [
        "(train_images, train_labels), (test_images, test_labels) = keras.datasets.mnist.load_data()"
      ],
      "execution_count": 2,
      "outputs": [
        {
          "output_type": "stream",
          "name": "stdout",
          "text": [
            "Downloading data from https://storage.googleapis.com/tensorflow/tf-keras-datasets/mnist.npz\n",
            "11493376/11490434 [==============================] - 0s 0us/step\n",
            "11501568/11490434 [==============================] - 0s 0us/step\n"
          ]
        }
      ]
    },
    {
      "cell_type": "code",
      "metadata": {
        "colab": {
          "base_uri": "https://localhost:8080/"
        },
        "id": "EKoWBDdI7T0T",
        "outputId": "9fd17967-5913-4322-9046-6c74dcca886f"
      },
      "source": [
        "test_labels"
      ],
      "execution_count": 13,
      "outputs": [
        {
          "output_type": "execute_result",
          "data": {
            "text/plain": [
              "array([7, 2, 1, ..., 4, 5, 6], dtype=uint8)"
            ]
          },
          "metadata": {},
          "execution_count": 13
        }
      ]
    },
    {
      "cell_type": "code",
      "metadata": {
        "id": "KIFkTJJ-TTiv",
        "colab": {
          "base_uri": "https://localhost:8080/",
          "height": 37
        },
        "outputId": "16cf4c4f-bdc7-4be3-cfd9-3d0fb6da4b2c"
      },
      "source": [
        "import tensorflow as tf\n",
        "tf.test.gpu_device_name()"
      ],
      "execution_count": 3,
      "outputs": [
        {
          "output_type": "execute_result",
          "data": {
            "application/vnd.google.colaboratory.intrinsic+json": {
              "type": "string"
            },
            "text/plain": [
              "'/device:GPU:0'"
            ]
          },
          "metadata": {},
          "execution_count": 3
        }
      ]
    },
    {
      "cell_type": "code",
      "metadata": {
        "id": "ZcIoIc3ZPPZV"
      },
      "source": [
        "model = keras.Sequential([\n",
        "                           keras.layers.Flatten(input_shape=(28,28)),\n",
        "                           keras.layers.Dense(32, activation='relu'),\n",
        "#                           keras.layers.Dense(64, activation='sigmoid'),\n",
        "                           keras.layers.Dense(10, activation='softmax') # Phi(x) = exp(x_i)/sum_i(exp(x_i))\n",
        "                           ])"
      ],
      "execution_count": 18,
      "outputs": []
    },
    {
      "cell_type": "code",
      "metadata": {
        "id": "AzfWYEo_PtJv"
      },
      "source": [
        "model.compile( optimizer=keras.optimizers.Adam(), loss='sparse_categorical_crossentropy', metrics=['accuracy'])"
      ],
      "execution_count": 19,
      "outputs": []
    },
    {
      "cell_type": "code",
      "metadata": {
        "colab": {
          "base_uri": "https://localhost:8080/"
        },
        "id": "UgNdunXDP1Fi",
        "outputId": "35395243-1066-4932-ae4a-7150db699633"
      },
      "source": [
        "history = model.fit(train_images, train_labels, validation_data=(test_images, test_labels), batch_size=100, epochs=20)"
      ],
      "execution_count": 20,
      "outputs": [
        {
          "output_type": "stream",
          "name": "stdout",
          "text": [
            "Epoch 1/20\n",
            "600/600 [==============================] - 3s 4ms/step - loss: 3.2013 - accuracy: 0.5096 - val_loss: 1.2133 - val_accuracy: 0.6337\n",
            "Epoch 2/20\n",
            "600/600 [==============================] - 2s 3ms/step - loss: 0.9889 - accuracy: 0.7022 - val_loss: 0.9034 - val_accuracy: 0.7411\n",
            "Epoch 3/20\n",
            "600/600 [==============================] - 2s 4ms/step - loss: 0.7112 - accuracy: 0.8041 - val_loss: 0.6719 - val_accuracy: 0.8494\n",
            "Epoch 4/20\n",
            "600/600 [==============================] - 2s 3ms/step - loss: 0.5566 - accuracy: 0.8509 - val_loss: 0.5770 - val_accuracy: 0.8734\n",
            "Epoch 5/20\n",
            "600/600 [==============================] - 2s 3ms/step - loss: 0.4760 - accuracy: 0.8747 - val_loss: 0.4839 - val_accuracy: 0.8799\n",
            "Epoch 6/20\n",
            "600/600 [==============================] - 2s 3ms/step - loss: 0.4017 - accuracy: 0.8956 - val_loss: 0.4606 - val_accuracy: 0.9081\n",
            "Epoch 7/20\n",
            "600/600 [==============================] - 2s 3ms/step - loss: 0.3530 - accuracy: 0.9092 - val_loss: 0.3773 - val_accuracy: 0.9116\n",
            "Epoch 8/20\n",
            "600/600 [==============================] - 2s 3ms/step - loss: 0.3199 - accuracy: 0.9181 - val_loss: 0.3542 - val_accuracy: 0.9236\n",
            "Epoch 9/20\n",
            "600/600 [==============================] - 2s 4ms/step - loss: 0.2874 - accuracy: 0.9244 - val_loss: 0.3225 - val_accuracy: 0.9265\n",
            "Epoch 10/20\n",
            "600/600 [==============================] - 2s 3ms/step - loss: 0.2690 - accuracy: 0.9289 - val_loss: 0.3169 - val_accuracy: 0.9293\n",
            "Epoch 11/20\n",
            "600/600 [==============================] - 2s 3ms/step - loss: 0.2537 - accuracy: 0.9322 - val_loss: 0.2878 - val_accuracy: 0.9328\n",
            "Epoch 12/20\n",
            "600/600 [==============================] - 2s 3ms/step - loss: 0.2337 - accuracy: 0.9355 - val_loss: 0.2665 - val_accuracy: 0.9395\n",
            "Epoch 13/20\n",
            "600/600 [==============================] - 2s 3ms/step - loss: 0.2230 - accuracy: 0.9394 - val_loss: 0.2658 - val_accuracy: 0.9363\n",
            "Epoch 14/20\n",
            "600/600 [==============================] - 2s 4ms/step - loss: 0.2128 - accuracy: 0.9416 - val_loss: 0.2730 - val_accuracy: 0.9383\n",
            "Epoch 15/20\n",
            "600/600 [==============================] - 2s 3ms/step - loss: 0.2059 - accuracy: 0.9436 - val_loss: 0.2646 - val_accuracy: 0.9350\n",
            "Epoch 16/20\n",
            "600/600 [==============================] - 2s 4ms/step - loss: 0.2035 - accuracy: 0.9434 - val_loss: 0.2629 - val_accuracy: 0.9397\n",
            "Epoch 17/20\n",
            "600/600 [==============================] - 2s 3ms/step - loss: 0.2044 - accuracy: 0.9434 - val_loss: 0.2690 - val_accuracy: 0.9357\n",
            "Epoch 18/20\n",
            "600/600 [==============================] - 2s 4ms/step - loss: 0.1974 - accuracy: 0.9452 - val_loss: 0.2645 - val_accuracy: 0.9412\n",
            "Epoch 19/20\n",
            "600/600 [==============================] - 2s 3ms/step - loss: 0.1920 - accuracy: 0.9462 - val_loss: 0.2780 - val_accuracy: 0.9337\n",
            "Epoch 20/20\n",
            "600/600 [==============================] - 2s 3ms/step - loss: 0.1877 - accuracy: 0.9473 - val_loss: 0.2647 - val_accuracy: 0.9432\n"
          ]
        }
      ]
    },
    {
      "cell_type": "code",
      "metadata": {
        "colab": {
          "base_uri": "https://localhost:8080/",
          "height": 312
        },
        "id": "SegU4QZbQAZL",
        "outputId": "9d65ce9d-7e1e-4328-89e2-198c508138d7"
      },
      "source": [
        "import matplotlib.pyplot as plt\n",
        "plt.plot(history.history['loss'], label='train', marker='o', linestyle='dashed')\n",
        "plt.plot(history.history['val_loss'], label='test', marker='o', linestyle='dashed')\n",
        "plt.title('model loss')\n",
        "plt.ylabel('loss')\n",
        "plt.xlabel('epoch')\n",
        "plt.legend(loc='upper right')"
      ],
      "execution_count": 21,
      "outputs": [
        {
          "output_type": "execute_result",
          "data": {
            "text/plain": [
              "<matplotlib.legend.Legend at 0x7f4b8dbeedd0>"
            ]
          },
          "metadata": {},
          "execution_count": 21
        },
        {
          "output_type": "display_data",
          "data": {
            "image/png": "[encoded data removed]",
            "text/plain": [
              "<Figure size 432x288 with 1 Axes>"
            ]
          },
          "metadata": {
            "needs_background": "light"
          }
        }
      ]
    },
    {
      "cell_type": "code",
      "metadata": {
        "colab": {
          "base_uri": "https://localhost:8080/"
        },
        "id": "dKBLntt2P2jL",
        "outputId": "d3ad1baf-fc9d-4313-9be5-e11acd36a0ec"
      },
      "source": [
        "test_loss, test_acc= model.evaluate(test_images, test_labels)\n",
        "print(\"Test accuracy:\", test_acc)\n",
        "# make predictions\n",
        "# predictions = model.predict(test_images)"
      ],
      "execution_count": 22,
      "outputs": [
        {
          "output_type": "stream",
          "name": "stdout",
          "text": [
            "313/313 [==============================] - 1s 3ms/step - loss: 0.2647 - accuracy: 0.9432\n",
            "Test accuracy: 0.9431999921798706\n"
          ]
        }
      ]
    },
    {
      "cell_type": "code",
      "metadata": {
        "id": "0j6_H0fvQ6UN",
        "colab": {
          "base_uri": "https://localhost:8080/",
          "height": 282
        },
        "outputId": "53f2ee11-2d74-4aee-ba6d-e7dba7d7f8ad"
      },
      "source": [
        "import numpy as np\n",
        "img = test_images[0]\n",
        "plt.imshow(img)"
      ],
      "execution_count": 29,
      "outputs": [
        {
          "output_type": "execute_result",
          "data": {
            "text/plain": [
              "<matplotlib.image.AxesImage at 0x7f510a9565d0>"
            ]
          },
          "metadata": {},
          "execution_count": 29
        },
        {
          "output_type": "display_data",
          "data": {
            "image/png": "[encoded data removed]",
            "text/plain": [
              "<Figure size 432x288 with 1 Axes>"
            ]
          },
          "metadata": {
            "needs_background": "light"
          }
        }
      ]
    },
    {
      "cell_type": "code",
      "metadata": {
        "colab": {
          "base_uri": "https://localhost:8080/"
        },
        "id": "5c8sEPPwx3Nu",
        "outputId": "899ac370-f0ec-41f6-f5cd-392c08196990"
      },
      "source": [
        "pred = model.predict(img[np.newaxis,:,:])\n",
        "pred"
      ],
      "execution_count": 31,
      "outputs": [
        {
          "output_type": "execute_result",
          "data": {
            "text/plain": [
              "array([[0.0000000e+00, 2.9176779e-26, 3.3536778e-06, 1.9234744e-08,\n",
              "        6.9229472e-15, 3.1432800e-17, 0.0000000e+00, 9.9999666e-01,\n",
              "        0.0000000e+00, 1.3649128e-12]], dtype=float32)"
            ]
          },
          "metadata": {},
          "execution_count": 31
        }
      ]
    },
    {
      "cell_type": "code",
      "metadata": {
        "colab": {
          "base_uri": "https://localhost:8080/"
        },
        "id": "oNfZeDFW_9Ns",
        "outputId": "e9885811-16ee-4c24-9b8e-272eb5202622"
      },
      "source": [
        "np.argmax(pred)"
      ],
      "execution_count": 32,
      "outputs": [
        {
          "output_type": "execute_result",
          "data": {
            "text/plain": [
              "7"
            ]
          },
          "metadata": {},
          "execution_count": 32
        }
      ]
    },
    {
      "cell_type": "code",
      "metadata": {
        "colab": {
          "base_uri": "https://localhost:8080/"
        },
        "id": "0zZrlCFjAJAT",
        "outputId": "84721d3a-ac2a-4519-d7be-b72af91aedf3"
      },
      "source": [
        "from tensorflow.keras.utils import to_categorical\n",
        "to_categorical(test_labels)[0], test_labels[0]"
      ],
      "execution_count": 15,
      "outputs": [
        {
          "output_type": "execute_result",
          "data": {
            "text/plain": [
              "(array([0., 0., 0., 0., 0., 0., 0., 1., 0., 0.], dtype=float32), 7)"
            ]
          },
          "metadata": {},
          "execution_count": 15
        }
      ]
    },
    {
      "cell_type": "code",
      "metadata": {
        "colab": {
          "base_uri": "https://localhost:8080/"
        },
        "id": "GbXUCTv9CUay",
        "outputId": "22039587-9b51-4b38-a8a8-f087e30d5c41"
      },
      "source": [
        "model.summary()"
      ],
      "execution_count": 16,
      "outputs": [
        {
          "output_type": "stream",
          "name": "stdout",
          "text": [
            "Model: \"sequential\"\n",
            "_________________________________________________________________\n",
            " Layer (type)                Output Shape              Param #   \n",
            "=================================================================\n",
            " flatten (Flatten)           (None, 784)               0         \n",
            "                                                                 \n",
            " dense (Dense)               (None, 128)               100480    \n",
            "                                                                 \n",
            " dense_1 (Dense)             (None, 64)                8256      \n",
            "                                                                 \n",
            " dense_2 (Dense)             (None, 10)                650       \n",
            "                                                                 \n",
            "=================================================================\n",
            "Total params: 109,386\n",
            "Trainable params: 109,386\n",
            "Non-trainable params: 0\n",
            "_________________________________________________________________\n"
          ]
        }
      ]
    },
    {
      "cell_type": "code",
      "metadata": {
        "colab": {
          "base_uri": "https://localhost:8080/",
          "height": 396
        },
        "id": "jy4tn9_oDPFb",
        "outputId": "e3d7e66a-7a5f-4810-e69f-20ca34917aa3"
      },
      "source": [
        "from keras.utils.vis_utils import plot_model\n",
        "plot_model(model, show_layer_names=False, show_layer_activations=True) #, show_layer_activations=True) show_shapes=True, "
      ],
      "execution_count": 25,
      "outputs": [
        {
          "output_type": "execute_result",
          "data": {
            "image/png": "[encoded data removed]",
            "text/plain": [
              "<IPython.core.display.Image object>"
            ]
          },
          "metadata": {},
          "execution_count": 25
        }
      ]
    },
    {
      "cell_type": "code",
      "metadata": {
        "id": "Ydbcx1LSDTrp"
      },
      "source": [
        ""
      ],
      "execution_count": null,
      "outputs": []
    }
  ]
}